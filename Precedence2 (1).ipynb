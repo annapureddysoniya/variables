{
 "cells": [
  {
   "cell_type": "code",
   "execution_count": null,
   "id": "df6ad464-347d-4d5f-b787-a05e10358727",
   "metadata": {},
   "outputs": [],
   "source": []
  },
  {
   "cell_type": "code",
   "execution_count": 1,
   "id": "656ada78-91de-491a-840c-4396a0716045",
   "metadata": {},
   "outputs": [
    {
     "data": {
      "text/plain": [
       "966000.0"
      ]
     },
     "execution_count": 1,
     "metadata": {},
     "output_type": "execute_result"
    }
   ],
   "source": [
    "7*(2-32)*23*23*(32-232)/23\n",
    "#Multiplication"
   ]
  },
  {
   "cell_type": "code",
   "execution_count": 2,
   "id": "54badf54-5574-4c05-b0a2-8e4097f31c19",
   "metadata": {},
   "outputs": [
    {
     "data": {
      "text/plain": [
       "497.30434782608694"
      ]
     },
     "execution_count": 2,
     "metadata": {},
     "output_type": "execute_result"
    }
   ],
   "source": [
    "7+(2-32)+23*23+(32-232)/23\n",
    "#Addition"
   ]
  },
  {
   "cell_type": "code",
   "execution_count": 3,
   "id": "26aa5407-f728-4e24-a85d-32eb452b2a64",
   "metadata": {},
   "outputs": [
    {
     "data": {
      "text/plain": [
       "5.072463768115943e-05"
      ]
     },
     "execution_count": 3,
     "metadata": {},
     "output_type": "execute_result"
    }
   ],
   "source": [
    "7/(2-32)/23*23/(32-232)/23\n",
    "Division"
   ]
  },
  {
   "cell_type": "code",
   "execution_count": null,
   "id": "f5091743-83eb-4527-b462-a50cc9395c2b",
   "metadata": {},
   "outputs": [],
   "source": []
  },
  {
   "cell_type": "code",
   "execution_count": 5,
   "id": "d31dd53b-533d-4517-a75b-118d8abbaaf4",
   "metadata": {},
   "outputs": [
    {
     "data": {
      "text/plain": [
       "-200177.62962962966"
      ]
     },
     "execution_count": 5,
     "metadata": {},
     "output_type": "execute_result"
    }
   ],
   "source": [
    "78-23+23+23+12+123-232*(34/54*34+4)*34\n",
    "#Multiplication"
   ]
  },
  {
   "cell_type": "code",
   "execution_count": 6,
   "id": "257ee22a-1776-49c2-99fd-0d6990a6faf9",
   "metadata": {},
   "outputs": [
    {
     "data": {
      "text/plain": [
       "235.7314354313154"
      ]
     },
     "execution_count": 6,
     "metadata": {},
     "output_type": "execute_result"
    }
   ],
   "source": [
    "78-23+23+23+12+123-232/(34/54*34+4)/34\n",
    "#Division"
   ]
  },
  {
   "cell_type": "code",
   "execution_count": 8,
   "id": "0b30b147-abdf-4c45-8adb-c7eb77ab5499",
   "metadata": {},
   "outputs": [
    {
     "data": {
      "text/plain": [
       "63.407407407407405"
      ]
     },
     "execution_count": 8,
     "metadata": {},
     "output_type": "execute_result"
    }
   ],
   "source": [
    "78-23+23+23+12+123-232+(34/54*34+4)+34\n",
    "#Addition"
   ]
  },
  {
   "cell_type": "code",
   "execution_count": null,
   "id": "71cb726d-f1d7-48e2-979c-807f209449e3",
   "metadata": {},
   "outputs": [],
   "source": []
  },
  {
   "cell_type": "markdown",
   "id": "a57e6c80-799c-472b-8170-02896c43cd90",
   "metadata": {},
   "source": [
    "- what is the difference between = and =="
   ]
  },
  {
   "cell_type": "code",
   "execution_count": null,
   "id": "cfba92c9-81e9-486a-89d7-dad6a465dd94",
   "metadata": {},
   "outputs": [],
   "source": [
    "The \"=\" sign is used for a assignement ,meamimg you're assigning a value to a variable.\n",
    "The\"==\"sign is used for a comparision,checking if two values are equal."
   ]
  },
  {
   "cell_type": "markdown",
   "id": "5ba38b66-5b82-4117-9e85-0c05dd5e81cf",
   "metadata": {},
   "source": [
    "- a=-91,b=32 apply comparision operator"
   ]
  },
  {
   "cell_type": "code",
   "execution_count": 11,
   "id": "1ab76189-2c1e-4ff9-8724-57fe6f523373",
   "metadata": {},
   "outputs": [
    {
     "name": "stdout",
     "output_type": "stream",
     "text": [
      "False\n",
      "True\n",
      "False\n",
      "True\n",
      "False\n",
      "True\n"
     ]
    }
   ],
   "source": [
    "a=-91\n",
    "b=32\n",
    "print(a==b)\n",
    "print(a!=b)\n",
    "print(a>b)\n",
    "print(a<b)\n",
    "print(a>=b)\n",
    "print(a<=b)\n"
   ]
  },
  {
   "cell_type": "markdown",
   "id": "ce3d161d-b81a-4fe8-92b4-8e8f37bf36a4",
   "metadata": {},
   "source": [
    "- Define type function ,give example"
   ]
  },
  {
   "cell_type": "markdown",
   "id": "a5a1e346-c78c-42ad-9673-aa87260c0331",
   "metadata": {},
   "source": [
    "in many programming languages,including python ,the type() function is used to get the type of an object\n",
    "type(object)\n"
   ]
  },
  {
   "cell_type": "code",
   "execution_count": 13,
   "id": "f28ef8f4-c3d3-4ce5-8faa-2eefbcbc8a39",
   "metadata": {},
   "outputs": [
    {
     "name": "stdout",
     "output_type": "stream",
     "text": [
      "<class 'int'>\n"
     ]
    }
   ],
   "source": [
    "x=5\n",
    "print(type(x))"
   ]
  },
  {
   "cell_type": "code",
   "execution_count": 14,
   "id": "80e11d83-a00c-43bc-a92d-1e48c686c994",
   "metadata": {},
   "outputs": [
    {
     "name": "stdout",
     "output_type": "stream",
     "text": [
      "<class 'str'>\n"
     ]
    }
   ],
   "source": [
    "x=\"Hello\"\n",
    "print(type(x))"
   ]
  },
  {
   "cell_type": "code",
   "execution_count": 15,
   "id": "1f2577cb-cdcb-45f2-90c0-db54bde7b7b7",
   "metadata": {},
   "outputs": [
    {
     "name": "stdout",
     "output_type": "stream",
     "text": [
      "<class 'list'>\n"
     ]
    }
   ],
   "source": [
    "x=[1,2,3,4,5]\n",
    "print(type(x))"
   ]
  },
  {
   "cell_type": "code",
   "execution_count": 16,
   "id": "b4b69196-1ea1-4f4e-944a-2eb3c7f2eb64",
   "metadata": {},
   "outputs": [
    {
     "name": "stdout",
     "output_type": "stream",
     "text": [
      "<class 'str'>\n"
     ]
    }
   ],
   "source": [
    "x=(\"my name is soniya \")\n",
    "print(type(x))"
   ]
  },
  {
   "cell_type": "markdown",
   "id": "61923d16-c6f2-405a-8a80-a3e079682313",
   "metadata": {},
   "source": [
    "- define bool function"
   ]
  },
  {
   "cell_type": "markdown",
   "id": "efc0ee02-66d3-43d2-89da-312b716a6c73",
   "metadata": {},
   "source": [
    "in python ,the  bool() function is used to convert a value to a boolean (true or false) value"
   ]
  },
  {
   "cell_type": "code",
   "execution_count": 18,
   "id": "0840bf94-33ce-4fb2-ad58-e8973bcae438",
   "metadata": {},
   "outputs": [
    {
     "name": "stdout",
     "output_type": "stream",
     "text": [
      "True\n"
     ]
    }
   ],
   "source": [
    "x=1823\n",
    "print(bool(x))"
   ]
  },
  {
   "cell_type": "markdown",
   "id": "65185acd-5ae1-495f-90ac-d80f3db51b44",
   "metadata": {},
   "source": [
    "- write any 3 examples an type casting or type conversion"
   ]
  },
  {
   "cell_type": "code",
   "execution_count": 1,
   "id": "bc688759-f9a9-4509-baaf-c5678c66730f",
   "metadata": {},
   "outputs": [
    {
     "ename": "SyntaxError",
     "evalue": "invalid syntax (1236151531.py, line 16)",
     "output_type": "error",
     "traceback": [
      "\u001b[1;36m  Cell \u001b[1;32mIn[1], line 16\u001b[1;36m\u001b[0m\n\u001b[1;33m    convert int into float\u001b[0m\n\u001b[1;37m            ^\u001b[0m\n\u001b[1;31mSyntaxError\u001b[0m\u001b[1;31m:\u001b[0m invalid syntax\n"
     ]
    }
   ],
   "source": [
    "x=5  #int\n",
    "y=2.5 #float\n",
    "z=38j #complex\n",
    "#convert int into float\n",
    "a=float(int)\n",
    "#convert float to int\n",
    "b=int(float)\n",
    "#convert int into complex\n",
    "c=complex(x)\n",
    "print(a)\n",
    "print(b)\n",
    "print(c)\n",
    "print(type(x))\n",
    "print(type(y))\n",
    "print(type(z))\n",
    "convert int into float\n",
    "print\n",
    "      "
   ]
  },
  {
   "cell_type": "code",
   "execution_count": 2,
   "id": "250b2887-7b59-4f81-9a50-c65b9d55fdeb",
   "metadata": {},
   "outputs": [
    {
     "ename": "SyntaxError",
     "evalue": "invalid syntax (987706218.py, line 1)",
     "output_type": "error",
     "traceback": [
      "\u001b[1;36m  Cell \u001b[1;32mIn[2], line 1\u001b[1;36m\u001b[0m\n\u001b[1;33m    Explicit type casting  :Explicit type casting is necessory when converting a larger data type to a smaller one ,potentially resulting in data loss.\u001b[0m\n\u001b[1;37m             ^\u001b[0m\n\u001b[1;31mSyntaxError\u001b[0m\u001b[1;31m:\u001b[0m invalid syntax\n"
     ]
    }
   ],
   "source": [
    "Explicit type casting  :Explicit type casting is necessory when converting a larger data type to a smaller one ,potentially resulting in data loss."
   ]
  },
  {
   "cell_type": "code",
   "execution_count": null,
   "id": "3f610a73-2a90-4b94-b76d-dca0ef18ec30",
   "metadata": {},
   "outputs": [],
   "source": []
  }
 ],
 "metadata": {
  "kernelspec": {
   "display_name": "Python 3 (ipykernel)",
   "language": "python",
   "name": "python3"
  },
  "language_info": {
   "codemirror_mode": {
    "name": "ipython",
    "version": 3
   },
   "file_extension": ".py",
   "mimetype": "text/x-python",
   "name": "python",
   "nbconvert_exporter": "python",
   "pygments_lexer": "ipython3",
   "version": "3.11.7"
  }
 },
 "nbformat": 4,
 "nbformat_minor": 5
}
