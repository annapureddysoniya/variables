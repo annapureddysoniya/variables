{
 "cells": [
  {
   "cell_type": "raw",
   "id": "26ac9951-54c1-4f1a-9a55-cf2ad6ef56d0",
   "metadata": {},
   "source": [
    "print(\"Hello world!\"):"
   ]
  },
  {
   "cell_type": "code",
   "execution_count": 1,
   "id": "d92049fa-bf15-47a9-b1b8-748b3013ed2b",
   "metadata": {},
   "outputs": [
    {
     "name": "stdout",
     "output_type": "stream",
     "text": [
      "Python version: 3.11.7 | packaged by Anaconda, Inc. | (main, Dec 15 2023, 18:05:47) [MSC v.1916 64 bit (AMD64)]\n"
     ]
    }
   ],
   "source": [
    "import sys\n",
    "print(\"Python version:\",sys.version)"
   ]
  },
  {
   "cell_type": "code",
   "execution_count": 2,
   "id": "7f927658-7181-4a0f-9020-b7bc46e45ae3",
   "metadata": {},
   "outputs": [
    {
     "name": "stdout",
     "output_type": "stream",
     "text": [
      "Ten is greater than two!\n"
     ]
    }
   ],
   "source": [
    "if 10>2:\n",
    "    print(\"Ten is greater than two!\")"
   ]
  },
  {
   "cell_type": "code",
   "execution_count": 3,
   "id": "e953c086-99e8-4a35-b3ba-d7eea49bac71",
   "metadata": {},
   "outputs": [
    {
     "name": "stdout",
     "output_type": "stream",
     "text": [
      "['False', 'None', 'True', 'and', 'as', 'assert', 'async', 'await', 'break', 'class', 'continue', 'def', 'del', 'elif', 'else', 'except', 'finally', 'for', 'from', 'global', 'if', 'import', 'in', 'is', 'lambda', 'nonlocal', 'not', 'or', 'pass', 'raise', 'return', 'try', 'while', 'with', 'yield']\n"
     ]
    },
    {
     "data": {
      "text/plain": [
       "35"
      ]
     },
     "execution_count": 3,
     "metadata": {},
     "output_type": "execute_result"
    }
   ],
   "source": [
    "import keyword\n",
    "python_keywords=keyword.kwlist\n",
    "print(python_keywords)\n",
    "len(python_keywords)"
   ]
  },
  {
   "cell_type": "code",
   "execution_count": null,
   "id": "012e19fd-f99a-4d19-80ed-dadbe108630d",
   "metadata": {},
   "outputs": [],
   "source": []
  },
  {
   "cell_type": "code",
   "execution_count": null,
   "id": "0164c82c",
   "metadata": {},
   "outputs": [],
   "source": []
  }
 ],
 "metadata": {
  "kernelspec": {
   "display_name": "Python 3 (ipykernel)",
   "language": "python",
   "name": "python3"
  },
  "language_info": {
   "codemirror_mode": {
    "name": "ipython",
    "version": 3
   },
   "file_extension": ".py",
   "mimetype": "text/x-python",
   "name": "python",
   "nbconvert_exporter": "python",
   "pygments_lexer": "ipython3",
   "version": "3.11.7"
  }
 },
 "nbformat": 4,
 "nbformat_minor": 5
}
