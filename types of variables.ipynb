{
 "cells": [
  {
   "cell_type": "markdown",
   "id": "644b9e47-aeeb-433c-93b5-3c82f33698a9",
   "metadata": {},
   "source": [
    "# Types of variable"
   ]
  },
  {
   "cell_type": "markdown",
   "id": "a96fad02-b4fd-4022-ba5b-f7f77ea69911",
   "metadata": {},
   "source": [
    "- multi to multi\n",
    "- multi to single"
   ]
  },
  {
   "cell_type": "markdown",
   "id": "b47916dc-b6bd-4a4d-b9e9-0ceee42d52f1",
   "metadata": {},
   "source": [
    "# multi to multi"
   ]
  },
  {
   "cell_type": "code",
   "execution_count": 3,
   "id": "a583489f-5028-49d0-94ea-a6bcf7ce43a3",
   "metadata": {},
   "outputs": [
    {
     "name": "stdout",
     "output_type": "stream",
     "text": [
      "sony\n",
      "naveena\n",
      "ludhi\n"
     ]
    }
   ],
   "source": [
    "a,b,c=\"sony\",\"naveena\",\"ludhi\"\n",
    "print(a)\n",
    "print(b)\n",
    "print(c)"
   ]
  },
  {
   "cell_type": "markdown",
   "id": "646533dd-9f79-4359-93c4-9f2144fb2e8a",
   "metadata": {},
   "source": [
    "# multi to single"
   ]
  },
  {
   "cell_type": "code",
   "execution_count": 6,
   "id": "c5d2af6b-d508-4c9e-9ad0-c43a16819200",
   "metadata": {},
   "outputs": [
    {
     "name": "stdout",
     "output_type": "stream",
     "text": [
      "freinds\n",
      "freinds\n",
      "freinds\n"
     ]
    }
   ],
   "source": [
    "a=b=c=\"freinds\"\n",
    "print(a)\n",
    "print(b)\n",
    "print(c)"
   ]
  },
  {
   "cell_type": "code",
   "execution_count": 7,
   "id": "12918a32-c8ae-4fd4-a25a-fcd8606a04cd",
   "metadata": {},
   "outputs": [
    {
     "name": "stdout",
     "output_type": "stream",
     "text": [
      "10000\n",
      "10000\n",
      "10000\n"
     ]
    }
   ],
   "source": [
    "a=b=c=10000\n",
    "print(a)\n",
    "print(b)\n",
    "print(c)"
   ]
  },
  {
   "cell_type": "markdown",
   "id": "076eb43d-723a-45b9-8526-5d45ada70c49",
   "metadata": {},
   "source": [
    "# Rules to create variable"
   ]
  },
  {
   "cell_type": "markdown",
   "id": "e64895fd-d733-46b2-bf18-5345ffafa738",
   "metadata": {},
   "source": [
    "- Variable names can contain letters,numbers and underscore\n",
    "- Variable names cannot start with a number\n",
    "- Variable names are case sensitive\n",
    "- Avaid using python keywords as variables\n",
    "- variables cannot start with characters"
   ]
  },
  {
   "cell_type": "code",
   "execution_count": null,
   "id": "7849d7b5-0ff0-4886-a2fc-659b094b5e9a",
   "metadata": {},
   "outputs": [],
   "source": []
  }
 ],
 "metadata": {
  "kernelspec": {
   "display_name": "Python 3 (ipykernel)",
   "language": "python",
   "name": "python3"
  },
  "language_info": {
   "codemirror_mode": {
    "name": "ipython",
    "version": 3
   },
   "file_extension": ".py",
   "mimetype": "text/x-python",
   "name": "python",
   "nbconvert_exporter": "python",
   "pygments_lexer": "ipython3",
   "version": "3.11.7"
  }
 },
 "nbformat": 4,
 "nbformat_minor": 5
}
